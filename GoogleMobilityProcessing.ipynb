{
 "cells": [
  {
   "cell_type": "code",
   "execution_count": 72,
   "metadata": {},
   "outputs": [],
   "source": [
    "import numpy as np\n",
    "import pandas as pd\n",
    "import matplotlib.pyplot as plt\n",
    "plt.style.use('seaborn-darkgrid')\n",
    "import seaborn as sns"
   ]
  },
  {
   "cell_type": "markdown",
   "metadata": {},
   "source": [
    "# Read in Data"
   ]
  },
  {
   "cell_type": "code",
   "execution_count": 34,
   "metadata": {},
   "outputs": [],
   "source": [
    "# import county level population density data\n",
    "df_density = pd.read_csv('Data/county_density.csv').dropna()\n",
    "df_density['GCT_STUB.display-label'] = df_density['GCT_STUB.display-label'].apply(lambda x: x.replace(' County', ''))\n",
    "df_density['state_county'] = df_density['GEO.display-label'] + ' ' + df_density['GCT_STUB.display-label']\n",
    "\n",
    "# import county level mobility data from Google's data reports\n",
    "df_movement = pd.read_csv('Data/Global_Mobility_Report.csv')\n",
    "df_movement = df_movement.drop(columns = ['iso_3166_2_code'])\n",
    "df_movement = df_movement.loc[df_movement['country_region_code'] == 'US']\n",
    "df_movement = df_movement.dropna().reset_index()\n",
    "df_movement['sub_region_2'] = df_movement['sub_region_2'].apply(lambda x: x.replace(' County', ''))\n",
    "df_movement['date_county'] = df_movement['date'] + ' ' + df_movement['sub_region_2'] + ' ' + df_movement['sub_region_1']\n",
    "\n",
    "# Parse data\n",
    "df_movement['date'] = pd.to_datetime(df_movement['date'])\n",
    "\n",
    "# Rename columns\n",
    "df_movement = df_movement.rename(columns = {\n",
    "    'retail_and_recreation_percent_change_from_baseline': 'retail',\n",
    "    'grocery_and_pharmacy_percent_change_from_baseline' : 'grocery',\n",
    "    'parks_percent_change_from_baseline': 'parks',\n",
    "    'transit_stations_percent_change_from_baseline' : 'transit',\n",
    "    'workplaces_percent_change_from_baseline' : 'workplace',\n",
    "    'residential_percent_change_from_baseline': 'residential'\n",
    "})\n",
    "\n",
    "# Add weekdays and process dates\n",
    "df_movement['weekday'] = df_movement['date'].map(lambda x: x.weekday())\n",
    "# Get number of days since beginning of time period\n",
    "start = df_movement['date'][0] # get first data\n",
    "df_movement['days'] = df_movement['date'].map(lambda x: (x - start).days)"
   ]
  },
  {
   "cell_type": "code",
   "execution_count": 78,
   "metadata": {},
   "outputs": [],
   "source": [
    "# Save processed data\n",
    "#TODO - ADD collated case and density data \n",
    "df_movement.to_csv('Data/processed_mobility.csv')"
   ]
  },
  {
   "cell_type": "code",
   "execution_count": null,
   "metadata": {},
   "outputs": [],
   "source": []
  }
 ],
 "metadata": {
  "kernelspec": {
   "display_name": "Python 3",
   "language": "python",
   "name": "python3"
  },
  "language_info": {
   "codemirror_mode": {
    "name": "ipython",
    "version": 3
   },
   "file_extension": ".py",
   "mimetype": "text/x-python",
   "name": "python",
   "nbconvert_exporter": "python",
   "pygments_lexer": "ipython3",
   "version": "3.6.5"
  },
  "toc": {
   "base_numbering": 1,
   "nav_menu": {},
   "number_sections": false,
   "sideBar": true,
   "skip_h1_title": false,
   "title_cell": "Table of Contents",
   "title_sidebar": "Contents",
   "toc_cell": false,
   "toc_position": {},
   "toc_section_display": true,
   "toc_window_display": true
  },
  "varInspector": {
   "cols": {
    "lenName": 16,
    "lenType": 16,
    "lenVar": 40
   },
   "kernels_config": {
    "python": {
     "delete_cmd_postfix": "",
     "delete_cmd_prefix": "del ",
     "library": "var_list.py",
     "varRefreshCmd": "print(var_dic_list())"
    },
    "r": {
     "delete_cmd_postfix": ") ",
     "delete_cmd_prefix": "rm(",
     "library": "var_list.r",
     "varRefreshCmd": "cat(var_dic_list()) "
    }
   },
   "types_to_exclude": [
    "module",
    "function",
    "builtin_function_or_method",
    "instance",
    "_Feature"
   ],
   "window_display": false
  }
 },
 "nbformat": 4,
 "nbformat_minor": 2
}
